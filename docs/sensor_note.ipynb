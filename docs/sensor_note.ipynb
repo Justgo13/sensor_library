{
 "cells": [
  {
   "cell_type": "markdown",
   "source": [
    "This notebook demonstrates each parser code in action and their result\n"
   ],
   "metadata": {
    "collapsed": false,
    "pycharm": {
     "name": "#%% md\n"
    }
   }
  },
  {
   "cell_type": "code",
   "execution_count": 20,
   "outputs": [],
   "source": [
    "import numpy as np\n",
    "import csv"
   ],
   "metadata": {
    "collapsed": false,
    "pycharm": {
     "name": "#%%\n",
     "is_executing": false
    }
   }
  },
  {
   "cell_type": "markdown",
   "source": [
    "This code below demonstrates the X4 parser for putting real and imaginary parts together:"
   ],
   "metadata": {
    "collapsed": false,
    "pycharm": {
     "name": "#%% md\n"
    }
   }
  },
  {
   "cell_type": "code",
   "execution_count": 23,
   "outputs": [
    {
     "data": {
      "text/plain": "'converted'"
     },
     "metadata": {},
     "output_type": "execute_result",
     "execution_count": 23
    }
   ],
   "source": [
    "def iq_data(filename,csvname):\n",
    "    with open(filename, \"rb\") as f:\n",
    "        data = np.fromfile(f, dtype=np.float32)\n",
    "    for i in range(0, len(data) // 363 - 1):\n",
    "        temp = data[3 * (i + 1) + 360 * i:3 * (i + 1) + 360 * (i + 1)]\n",
    "        iqdata = []\n",
    "        for j in range(0, 180):\n",
    "            if temp[j + 180] > 0:\n",
    "                iqdata.append(str(round(temp[j], 4)) + \"+\" + str(round(temp[j + 180], 4)) + \"j\")\n",
    "            else:\n",
    "                iqdata.append(str(round(temp[j], 4)) + str(round(temp[j + 180], 4)) + \"j\")\n",
    "        with open(csvname+'.csv', 'a', newline=\"\") as csvFile:\n",
    "             writer = csv.writer(csvFile)\n",
    "             writer.writerow(iqdata)\n",
    "    f.close()\n",
    "    csvFile.close()\n",
    "    return 'converted'\n",
    "iq_data(\"X4data.dat\",\"X4iq\")\n"
   ],
   "metadata": {
    "collapsed": false,
    "pycharm": {
     "name": "#%%\n",
     "is_executing": false
    }
   }
  },
  {
   "cell_type": "markdown",
   "source": [
    "This code below demonstrates the X4 parser for raw data:\n"
   ],
   "metadata": {
    "collapsed": false,
    "pycharm": {
     "name": "#%% md\n"
    }
   }
  },
  {
   "cell_type": "code",
   "execution_count": 24,
   "outputs": [
    {
     "data": {
      "text/plain": "'converted'"
     },
     "metadata": {},
     "output_type": "execute_result",
     "execution_count": 24
    }
   ],
   "source": [
    "def raw_data(filename,csvname):\n",
    "    with open(filename, \"rb\") as f:\n",
    "        data = np.fromfile(f, dtype=np.float32)\n",
    "    for i in range(0, len(data) // 1473 - 1):\n",
    "        temp = data[3 + 1470 * i:3 + 1470 * (i + 1)]\n",
    "\n",
    "        with open(csvname+'.csv', 'a', newline=\"\") as csvFile:\n",
    "            writer = csv.writer(csvFile)\n",
    "            writer.writerow(temp)\n",
    "    f.close()\n",
    "    csvFile.close()\n",
    "    return 'converted'\n",
    "\n",
    "raw_data(\"X4data.dat\", \"X4raw\")\n"
   ],
   "metadata": {
    "collapsed": false,
    "pycharm": {
     "name": "#%%\n",
     "is_executing": false
    }
   }
  }
 ],
 "metadata": {
  "language_info": {
   "codemirror_mode": {
    "name": "ipython",
    "version": 2
   },
   "file_extension": ".py",
   "mimetype": "text/x-python",
   "name": "python",
   "nbconvert_exporter": "python",
   "pygments_lexer": "ipython2",
   "version": "2.7.6"
  },
  "kernelspec": {
   "name": "python3",
   "language": "python",
   "display_name": "Python 3"
  },
  "pycharm": {
   "stem_cell": {
    "cell_type": "raw",
    "source": [],
    "metadata": {
     "collapsed": false
    }
   }
  }
 },
 "nbformat": 4,
 "nbformat_minor": 0
}