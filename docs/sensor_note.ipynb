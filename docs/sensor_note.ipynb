{
 "cells": [
  {
   "cell_type": "markdown",
   "source": [
    "This notebook will describe how to use this library as well as give some example parser code that\n",
    "will be described in detail.\n"
   ],
   "metadata": {
    "collapsed": false,
    "pycharm": {
     "name": "#%% md\n"
    }
   }
  },
  {
   "cell_type": "markdown",
   "source": [
    "The following code is taken from *test.py* and this code is used to unit tests on the parser library \n",
    "code to make sure that the code converts the binary to csv file correctly.\n"
   ],
   "metadata": {
    "collapsed": false,
    "pycharm": {
     "name": "#%% md\n"
    }
   }
  },
  {
   "cell_type": "markdown",
   "source": [
    "This function is test the X4 binary file to see if the converted binary file has iq data together.\n"
   ],
   "metadata": {
    "collapsed": false
   }
  },
  {
   "cell_type": "code",
   "execution_count": 1,
   "outputs": [],
   "source": [
    "def test_iq(self):\n",
    "    \"\"\"\n",
    "    Method to test if .dat binary file was converted successfully to .csv file with in-phase and quadrature\n",
    "    components together.\n",
    "\n",
    "    :return:\n",
    "\n",
    "    converted\n",
    "    \"\"\"\n",
    "    file_iq = X4.iq_data('X4data.dat','X4iq')\n",
    "    self.assertEqual(file_iq,'converted')\n",
    "    "
   ],
   "metadata": {
    "collapsed": false,
    "pycharm": {
     "name": "#%%\n",
     "is_executing": false
    }
   }
  },
  {
   "cell_type": "markdown",
   "source": [
    "This function tests the X4 binary file and sees if the csv file has the iq data separated. \n"
   ],
   "metadata": {
    "collapsed": false
   }
  },
  {
   "cell_type": "code",
   "execution_count": 2,
   "outputs": [],
   "source": [
    "def test_raw(self):\n",
    "    \"\"\"\n",
    "    Method to test if .dat binary file was converted successfully to .csv file with in-phase and quadrature\n",
    "    component separated.\n",
    "\n",
    "    :return:\n",
    "\n",
    "    converted\n",
    "    \"\"\"\n",
    "    file_raw = X4.raw_data('X4data.dat','X4raw')\n",
    "    self.assertEqual(file_raw,'converted')\n",
    "    "
   ],
   "metadata": {
    "collapsed": false,
    "pycharm": {
     "name": "#%%\n",
     "is_executing": false
    }
   }
  },
  {
   "cell_type": "markdown",
   "source": [
    "This function test the TI binary file and sees if the file converts to csv file correctly.\n"
   ],
   "metadata": {
    "collapsed": false
   }
  },
  {
   "cell_type": "code",
   "execution_count": 3,
   "outputs": [],
   "source": [
    "def test_TI(self):\n",
    "    \"\"\"\n",
    "    Method to test if .bin binary file was converted successfully to .csv file with iq data put together.\n",
    "\n",
    "    :return:\n",
    "\n",
    "    converted\n",
    "    \"\"\"\n",
    "\n",
    "    file_TI = TI.readTIdata('TIdata.bin','TIiq')\n",
    "    self.assertEqual(file_TI,'converted')\n",
    "\n",
    "\n"
   ],
   "metadata": {
    "collapsed": false,
    "pycharm": {
     "name": "#%%\n",
     "is_executing": false
    }
   }
  }
 ],
 "metadata": {
  "language_info": {
   "codemirror_mode": {
    "name": "ipython",
    "version": 2
   },
   "file_extension": ".py",
   "mimetype": "text/x-python",
   "name": "python",
   "nbconvert_exporter": "python",
   "pygments_lexer": "ipython2",
   "version": "2.7.6"
  },
  "kernelspec": {
   "name": "python3",
   "language": "python",
   "display_name": "Python 3"
  },
  "pycharm": {
   "stem_cell": {
    "cell_type": "raw",
    "source": [],
    "metadata": {
     "collapsed": false
    }
   }
  }
 },
 "nbformat": 4,
 "nbformat_minor": 0
}